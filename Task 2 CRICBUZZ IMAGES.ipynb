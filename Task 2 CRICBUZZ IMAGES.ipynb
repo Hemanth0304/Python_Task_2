{
 "cells": [
  {
   "cell_type": "code",
   "execution_count": 2,
   "id": "8b82aeff",
   "metadata": {},
   "outputs": [],
   "source": [
    "import selenium\n",
    "from selenium import webdriver\n",
    "from selenium.webdriver.support.ui import Select\n",
    "import time\n",
    "import pandas as pd"
   ]
  },
  {
   "cell_type": "code",
   "execution_count": null,
   "id": "1976e689",
   "metadata": {},
   "outputs": [],
   "source": []
  },
  {
   "cell_type": "code",
   "execution_count": 4,
   "id": "d1e23337",
   "metadata": {},
   "outputs": [],
   "source": [
    "driverPath = r\"C:\\Users\\Merit.MSSPLACA002\\Desktop\\chromedriver.exe\"\n",
    "driver = webdriver.Chrome(executable_path=driverPath)\n",
    "driver.get(\"https://www.cricbuzz.com/cricket-team\")\n",
    "for i in range(1,38):\n",
    "    with open(r\"D:\\PYTHON\\IMAGES\\\\\"+str(i)+\".png\",'wb') as file:\n",
    "        img = driver.find_element_by_xpath(\"//h1[contains(text(),'Cricket Teams')]//following::img[\"+str(i)+\"]\")\n",
    "        file.write(img.screenshot_as_png)\n",
    "driver.close()\n"
   ]
  },
  {
   "cell_type": "code",
   "execution_count": null,
   "id": "9174961d",
   "metadata": {},
   "outputs": [],
   "source": []
  },
  {
   "cell_type": "code",
   "execution_count": null,
   "id": "9ad95cc8",
   "metadata": {},
   "outputs": [],
   "source": []
  }
 ],
 "metadata": {
  "kernelspec": {
   "display_name": "Python 3 (ipykernel)",
   "language": "python",
   "name": "python3"
  },
  "language_info": {
   "codemirror_mode": {
    "name": "ipython",
    "version": 3
   },
   "file_extension": ".py",
   "mimetype": "text/x-python",
   "name": "python",
   "nbconvert_exporter": "python",
   "pygments_lexer": "ipython3",
   "version": "3.9.6"
  }
 },
 "nbformat": 4,
 "nbformat_minor": 5
}
